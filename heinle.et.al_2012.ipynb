{
 "cells": [
  {
   "cell_type": "code",
   "execution_count": 1,
   "metadata": {},
   "outputs": [
    {
     "name": "stdout",
     "output_type": "stream",
     "text": [
      "こんにちは\n"
     ]
    }
   ],
   "source": [
    "print('こんにちは')"
   ]
  },
  {
   "cell_type": "code",
   "execution_count": 2,
   "metadata": {},
   "outputs": [],
   "source": [
    "from sympy import *\n",
    "init_printing()\n",
    "from sympy.stats import *"
   ]
  },
  {
   "cell_type": "markdown",
   "metadata": {},
   "source": [
    "# lemma1の設定"
   ]
  },
  {
   "cell_type": "code",
   "execution_count": 3,
   "metadata": {},
   "outputs": [],
   "source": [
    "a = Symbol('a') \n",
    "s = Symbol('s') \n",
    "gamma = Symbol('gamma') "
   ]
  },
  {
   "cell_type": "code",
   "execution_count": 4,
   "metadata": {},
   "outputs": [
    {
     "data": {
      "image/png": "[encoded data removed]",
      "text/latex": [
       "$$\\left [ \\frac{a^{2}}{2}, \\quad \\frac{\\gamma \\left(- a + s\\right)^{2}}{2}\\right ]$$"
      ],
      "text/plain": [
       "⎡ 2            2⎤\n",
       "⎢a   γ⋅(-a + s) ⎥\n",
       "⎢──, ───────────⎥\n",
       "⎣2        2     ⎦"
      ]
     },
     "execution_count": 4,
     "metadata": {},
     "output_type": "execute_result"
    }
   ],
   "source": [
    "k = Lambda([a], Rational(1,2) * (a ** 2))\n",
    "ks = Lambda([a,s], Rational(1,2) * gamma * (s-a) ** 2)\n",
    "[k(a), ks(a,s)]"
   ]
  },
  {
   "cell_type": "code",
   "execution_count": 5,
   "metadata": {},
   "outputs": [
    {
     "data": {
      "image/png": "[encoded data removed]",
      "text/latex": [
       "$$\\left [ a m + \\varepsilon, \\quad a m, \\quad a b\\right ]$$"
      ],
      "text/plain": [
       "[a⋅m + varepsilon, a⋅m, a⋅b]"
      ]
     },
     "execution_count": 5,
     "metadata": {},
     "output_type": "execute_result"
    }
   ],
   "source": [
    "m = Symbol('m') \n",
    "sigma = Symbol('sigma', positive = True) \n",
    "eps = Normal('varepsilon', 0, sigma)\n",
    "y = m*a + eps\n",
    "b = Symbol('b')\n",
    "x = b * a\n",
    "[y , E(y), x]"
   ]
  },
  {
   "cell_type": "code",
   "execution_count": 6,
   "metadata": {},
   "outputs": [
    {
     "data": {
      "image/png": "[encoded data removed]",
      "text/latex": [
       "$$\\left [ a m v + f, \\quad \\sigma^{2} v^{2}\\right ]$$"
      ],
      "text/plain": [
       "⎡            2  2⎤\n",
       "⎣a⋅m⋅v + f, σ ⋅v ⎦"
      ]
     },
     "execution_count": 6,
     "metadata": {},
     "output_type": "execute_result"
    }
   ],
   "source": [
    "f = Symbol('f')\n",
    "v = Symbol('v')\n",
    "w = f + v*y\n",
    "[E(w), variance(w)]"
   ]
  },
  {
   "cell_type": "code",
   "execution_count": 7,
   "metadata": {},
   "outputs": [
    {
     "data": {
      "image/png": "[encoded data removed]",
      "text/latex": [
       "$$- \\frac{a^{2}}{2} + a m v + f - \\frac{\\gamma \\left(- a + s\\right)^{2}}{2} - \\frac{r \\sigma^{2} v^{2}}{2}$$"
      ],
      "text/plain": [
       "   2                         2      2  2\n",
       "  a                γ⋅(-a + s)    r⋅σ ⋅v \n",
       "- ── + a⋅m⋅v + f - ─────────── - ───────\n",
       "  2                     2           2   "
      ]
     },
     "execution_count": 7,
     "metadata": {},
     "output_type": "execute_result"
    }
   ],
   "source": [
    "r = Symbol('r')\n",
    "CE = E(w) - k(a) - ks(a,s) - Rational(1,2) * r * variance(w) \n",
    "CE"
   ]
  },
  {
   "cell_type": "markdown",
   "metadata": {},
   "source": [
    "## 解く"
   ]
  },
  {
   "cell_type": "code",
   "execution_count": 8,
   "metadata": {},
   "outputs": [
    {
     "data": {
      "image/png": "[encoded data removed]",
      "text/latex": [
       "$$\\frac{\\gamma s + m v}{\\gamma + 1}$$"
      ],
      "text/plain": [
       "γ⋅s + m⋅v\n",
       "─────────\n",
       "  γ + 1  "
      ]
     },
     "execution_count": 8,
     "metadata": {},
     "output_type": "execute_result"
    }
   ],
   "source": [
    "adag = solve(CE.diff(a), a)[0]\n",
    "adag"
   ]
  },
  {
   "cell_type": "code",
   "execution_count": 9,
   "metadata": {},
   "outputs": [
    {
     "data": {
      "image/png": "[encoded data removed]",
      "text/latex": [
       "$$a b - a m v - f$$"
      ],
      "text/plain": [
       "a⋅b - a⋅m⋅v - f"
      ]
     },
     "execution_count": 9,
     "metadata": {},
     "output_type": "execute_result"
    }
   ],
   "source": [
    "Pi = E(x-w)\n",
    "Pi"
   ]
  },
  {
   "cell_type": "code",
   "execution_count": 10,
   "metadata": {},
   "outputs": [
    {
     "data": {
      "image/png": "[encoded data removed]",
      "text/latex": [
       "$$\\frac{a^{2}}{2} - a m v + \\frac{\\gamma \\left(a - s\\right)^{2}}{2} + \\frac{r \\sigma^{2} v^{2}}{2}$$"
      ],
      "text/plain": [
       " 2                    2      2  2\n",
       "a            γ⋅(a - s)    r⋅σ ⋅v \n",
       "── - a⋅m⋅v + ────────── + ───────\n",
       "2                2           2   "
      ]
     },
     "execution_count": 10,
     "metadata": {},
     "output_type": "execute_result"
    }
   ],
   "source": [
    "fdag = solve(CE, f)[0]\n",
    "fdag"
   ]
  },
  {
   "cell_type": "code",
   "execution_count": 11,
   "metadata": {},
   "outputs": [
    {
     "data": {
      "image/png": "[encoded data removed]",
      "text/latex": [
       "$$\\frac{b \\left(\\gamma s + m v\\right)}{\\gamma + 1} - \\frac{\\gamma \\left(- s + \\frac{\\gamma s + m v}{\\gamma + 1}\\right)^{2}}{2} - \\frac{r \\sigma^{2} v^{2}}{2} - \\frac{\\left(\\gamma s + m v\\right)^{2}}{2 \\left(\\gamma + 1\\right)^{2}}$$"
      ],
      "text/plain": [
       "                                  2                         \n",
       "                  ⎛     γ⋅s + m⋅v⎞                          \n",
       "                γ⋅⎜-s + ─────────⎟       2  2              2\n",
       "b⋅(γ⋅s + m⋅v)     ⎝       γ + 1  ⎠    r⋅σ ⋅v    (γ⋅s + m⋅v) \n",
       "───────────── - ─────────────────── - ─────── - ────────────\n",
       "    γ + 1                2               2                2 \n",
       "                                                 2⋅(γ + 1)  "
      ]
     },
     "execution_count": 11,
     "metadata": {},
     "output_type": "execute_result"
    }
   ],
   "source": [
    "Pi0 = Pi.subs([(f, fdag), (a, adag)])\n",
    "Pi0"
   ]
  },
  {
   "cell_type": "code",
   "execution_count": 12,
   "metadata": {},
   "outputs": [
    {
     "data": {
      "image/png": "[encoded data removed]",
      "text/latex": [
       "$$b$$"
      ],
      "text/plain": [
       "b"
      ]
     },
     "execution_count": 12,
     "metadata": {},
     "output_type": "execute_result"
    }
   ],
   "source": [
    "sdag = solve(Pi0.diff(s),s)[0]\n",
    "sdag"
   ]
  },
  {
   "cell_type": "code",
   "execution_count": 13,
   "metadata": {},
   "outputs": [
    {
     "data": {
      "image/png": "[encoded data removed]",
      "text/latex": [
       "$$\\frac{b m}{\\gamma r \\sigma^{2} + m^{2} + r \\sigma^{2}}$$"
      ],
      "text/plain": [
       "       b⋅m        \n",
       "──────────────────\n",
       "     2    2      2\n",
       "γ⋅r⋅σ  + m  + r⋅σ "
      ]
     },
     "execution_count": 13,
     "metadata": {},
     "output_type": "execute_result"
    }
   ],
   "source": [
    "vdag = simplify(solve(Pi0.diff(v), v)[0])\n",
    "vdag"
   ]
  },
  {
   "cell_type": "code",
   "execution_count": 14,
   "metadata": {},
   "outputs": [
    {
     "data": {
      "image/png": "[encoded data removed]",
      "text/latex": [
       "$$\\frac{b^{2} \\left(\\frac{\\gamma r \\sigma^{2}}{2} + \\frac{m^{2}}{2}\\right)}{\\gamma r \\sigma^{2} + m^{2} + r \\sigma^{2}}$$"
      ],
      "text/plain": [
       "    ⎛     2    2⎞ \n",
       "  2 ⎜γ⋅r⋅σ    m ⎟ \n",
       " b ⋅⎜────── + ──⎟ \n",
       "    ⎝  2      2 ⎠ \n",
       "──────────────────\n",
       "     2    2      2\n",
       "γ⋅r⋅σ  + m  + r⋅σ "
      ]
     },
     "execution_count": 14,
     "metadata": {},
     "output_type": "execute_result"
    }
   ],
   "source": [
    "Pidag = simplify(Pi0.subs([(v, vdag),(s, sdag)]))\n",
    "Pidag"
   ]
  },
  {
   "cell_type": "markdown",
   "metadata": {},
   "source": [
    "# lemma2の設定"
   ]
  },
  {
   "cell_type": "code",
   "execution_count": 15,
   "metadata": {},
   "outputs": [
    {
     "data": {
      "image/png": "[encoded data removed]",
      "text/latex": [
       "$$\\left [ \\sigma_{e}^{2}\\right ]$$"
      ],
      "text/plain": [
       "⎡  2⎤\n",
       "⎣σₑ ⎦"
      ]
     },
     "execution_count": 15,
     "metadata": {},
     "output_type": "execute_result"
    }
   ],
   "source": [
    "sigmae = Symbol('sigma_e', positive = True)\n",
    "epse = Normal('varepsilon_e', 0, sigmae)\n",
    "ye = epse\n",
    "[variance(ye)]"
   ]
  },
  {
   "cell_type": "code",
   "execution_count": 16,
   "metadata": {},
   "outputs": [
    {
     "data": {
      "image/png": "[encoded data removed]",
      "text/latex": [
       "$$\\rho \\sigma \\sigma_{e}$$"
      ],
      "text/plain": [
       "ρ⋅σ⋅σₑ"
      ]
     },
     "execution_count": 16,
     "metadata": {},
     "output_type": "execute_result"
    }
   ],
   "source": [
    "rho = Symbol('rho')\n",
    "cov = rho*sqrt(variance(y))*sqrt(variance(ye))\n",
    "cov"
   ]
  },
  {
   "cell_type": "code",
   "execution_count": 17,
   "metadata": {},
   "outputs": [
    {
     "data": {
      "image/png": "[encoded data removed]",
      "text/latex": [
       "$$\\left [ f + v \\left(a m + \\varepsilon\\right) + v_{e} \\varepsilon_{e}, \\quad a m v + f, \\quad \\sigma^{2} v^{2} + \\sigma_{e}^{2} v_{e}^{2}\\right ]$$"
      ],
      "text/plain": [
       "⎡                                                       2  2     2   2⎤\n",
       "⎣f + v⋅(a⋅m + varepsilon) + vₑ⋅varepsilonₑ, a⋅m⋅v + f, σ ⋅v  + σₑ ⋅vₑ ⎦"
      ]
     },
     "execution_count": 17,
     "metadata": {},
     "output_type": "execute_result"
    }
   ],
   "source": [
    "ve = Symbol('v_e')\n",
    "w2 = f + v*y + ve*ye\n",
    "[w2, E(w2), variance(w2)]"
   ]
  },
  {
   "cell_type": "code",
   "execution_count": 18,
   "metadata": {},
   "outputs": [
    {
     "data": {
      "image/png": "[encoded data removed]",
      "text/latex": [
       "$$- \\frac{a^{2}}{2} + a m v + f - \\frac{\\gamma \\left(- a + s\\right)^{2}}{2} - \\frac{r \\left(2 \\rho \\sigma \\sigma_{e} v v_{e} + \\sigma^{2} v^{2} + \\sigma_{e}^{2} v_{e}^{2}\\right)}{2}$$"
      ],
      "text/plain": [
       "   2                         2     ⎛                 2  2     2   2⎞\n",
       "  a                γ⋅(-a + s)    r⋅⎝2⋅ρ⋅σ⋅σₑ⋅v⋅vₑ + σ ⋅v  + σₑ ⋅vₑ ⎠\n",
       "- ── + a⋅m⋅v + f - ─────────── - ───────────────────────────────────\n",
       "  2                     2                         2                 "
      ]
     },
     "execution_count": 18,
     "metadata": {},
     "output_type": "execute_result"
    }
   ],
   "source": [
    "CE2 = E(w2) - k(a) - ks(a, s) - Rational(1, 2)*r*(variance(w2)+2*v*ve*cov)\n",
    "CE2"
   ]
  },
  {
   "cell_type": "code",
   "execution_count": 19,
   "metadata": {},
   "outputs": [
    {
     "data": {
      "image/png": "[encoded data removed]",
      "text/latex": [
       "$$\\frac{\\gamma s + m v}{\\gamma + 1}$$"
      ],
      "text/plain": [
       "γ⋅s + m⋅v\n",
       "─────────\n",
       "  γ + 1  "
      ]
     },
     "execution_count": 19,
     "metadata": {},
     "output_type": "execute_result"
    }
   ],
   "source": [
    "a2dag = solve(CE2.diff(a) ,a)[0]\n",
    "a2dag"
   ]
  },
  {
   "cell_type": "code",
   "execution_count": 20,
   "metadata": {},
   "outputs": [
    {
     "data": {
      "image/png": "[encoded data removed]",
      "text/latex": [
       "$$a b - a m v - f$$"
      ],
      "text/plain": [
       "a⋅b - a⋅m⋅v - f"
      ]
     },
     "execution_count": 20,
     "metadata": {},
     "output_type": "execute_result"
    }
   ],
   "source": [
    "Pi2 = E(x-w2)\n",
    "Pi2"
   ]
  },
  {
   "cell_type": "markdown",
   "metadata": {},
   "source": [
    "# 解く"
   ]
  },
  {
   "cell_type": "code",
   "execution_count": 21,
   "metadata": {},
   "outputs": [
    {
     "data": {
      "image/png": "[encoded data removed]",
      "text/latex": [
       "$$\\frac{a^{2}}{2} - a m v + \\frac{\\gamma \\left(a - s\\right)^{2}}{2} + r \\rho \\sigma \\sigma_{e} v v_{e} + \\frac{r \\sigma^{2} v^{2}}{2} + \\frac{r \\sigma_{e}^{2} v_{e}^{2}}{2}$$"
      ],
      "text/plain": [
       " 2                    2                      2  2       2   2\n",
       "a            γ⋅(a - s)                    r⋅σ ⋅v    r⋅σₑ ⋅vₑ \n",
       "── - a⋅m⋅v + ────────── + r⋅ρ⋅σ⋅σₑ⋅v⋅vₑ + ─────── + ─────────\n",
       "2                2                           2          2    "
      ]
     },
     "execution_count": 21,
     "metadata": {},
     "output_type": "execute_result"
    }
   ],
   "source": [
    "f2dag = solve(CE2, f)[0]\n",
    "f2dag"
   ]
  },
  {
   "cell_type": "code",
   "execution_count": 22,
   "metadata": {},
   "outputs": [
    {
     "data": {
      "image/png": "[encoded data removed]",
      "text/latex": [
       "$$\\frac{b \\left(\\gamma s + m v\\right)}{\\gamma + 1} - \\frac{\\gamma \\left(- s + \\frac{\\gamma s + m v}{\\gamma + 1}\\right)^{2}}{2} - r \\rho \\sigma \\sigma_{e} v v_{e} - \\frac{r \\sigma^{2} v^{2}}{2} - \\frac{r \\sigma_{e}^{2} v_{e}^{2}}{2} - \\frac{\\left(\\gamma s + m v\\right)^{2}}{2 \\left(\\gamma + 1\\right)^{2}}$$"
      ],
      "text/plain": [
       "                                  2                                           \n",
       "                  ⎛     γ⋅s + m⋅v⎞                                            \n",
       "                γ⋅⎜-s + ─────────⎟                       2  2       2   2     \n",
       "b⋅(γ⋅s + m⋅v)     ⎝       γ + 1  ⎠                    r⋅σ ⋅v    r⋅σₑ ⋅vₑ    (γ\n",
       "───────────── - ─────────────────── - r⋅ρ⋅σ⋅σₑ⋅v⋅vₑ - ─────── - ───────── - ──\n",
       "    γ + 1                2                               2          2         \n",
       "                                                                             2\n",
       "\n",
       "          \n",
       "          \n",
       "         2\n",
       "⋅s + m⋅v) \n",
       "──────────\n",
       "        2 \n",
       "⋅(γ + 1)  "
      ]
     },
     "execution_count": 22,
     "metadata": {},
     "output_type": "execute_result"
    }
   ],
   "source": [
    "Pi20 = Pi.subs([(f,f2dag),(a,a2dag)])\n",
    "Pi20"
   ]
  },
  {
   "cell_type": "code",
   "execution_count": 23,
   "metadata": {},
   "outputs": [
    {
     "data": {
      "image/png": "[encoded data removed]",
      "text/latex": [
       "$$b$$"
      ],
      "text/plain": [
       "b"
      ]
     },
     "execution_count": 23,
     "metadata": {},
     "output_type": "execute_result"
    }
   ],
   "source": [
    "sdag2 = solve(Pi20.diff(s),s)[0]\n",
    "sdag2"
   ]
  },
  {
   "cell_type": "code",
   "execution_count": 24,
   "metadata": {},
   "outputs": [
    {
     "data": {
      "image/png": "[encoded data removed]",
      "text/latex": [
       "$$\\frac{b m - \\gamma r \\rho \\sigma \\sigma_{e} v_{e} - r \\rho \\sigma \\sigma_{e} v_{e}}{\\gamma r \\sigma^{2} + m^{2} + r \\sigma^{2}}$$"
      ],
      "text/plain": [
       "b⋅m - γ⋅r⋅ρ⋅σ⋅σₑ⋅vₑ - r⋅ρ⋅σ⋅σₑ⋅vₑ\n",
       "─────────────────────────────────\n",
       "             2    2      2       \n",
       "        γ⋅r⋅σ  + m  + r⋅σ        "
      ]
     },
     "execution_count": 24,
     "metadata": {},
     "output_type": "execute_result"
    }
   ],
   "source": [
    "v2dag = simplify(solve(Pi20.diff(v),v)[0])\n",
    "v2dag"
   ]
  },
  {
   "cell_type": "code",
   "execution_count": 25,
   "metadata": {},
   "outputs": [
    {
     "data": {
      "image/png": "[encoded data removed]",
      "text/latex": [
       "$$- \\frac{\\rho \\sigma v}{\\sigma_{e}}$$"
      ],
      "text/plain": [
       "-ρ⋅σ⋅v \n",
       "───────\n",
       "   σₑ  "
      ]
     },
     "execution_count": 25,
     "metadata": {},
     "output_type": "execute_result"
    }
   ],
   "source": [
    "vedag = simplify(solve(Pi20.diff(ve), ve)[0])\n",
    "vedag"
   ]
  },
  {
   "cell_type": "code",
   "execution_count": 26,
   "metadata": {},
   "outputs": [],
   "source": [
    "eq1 = Eq(v2dag, v)\n",
    "eq2 = Eq(vedag, ve)"
   ]
  },
  {
   "cell_type": "code",
   "execution_count": 27,
   "metadata": {},
   "outputs": [
    {
     "data": {
      "image/png": "[encoded data removed]",
      "text/latex": [
       "$$\\left \\{ v : \\frac{b m}{\\gamma r \\sigma^{2} + m^{2} - r \\rho^{2} \\sigma^{2} \\left(\\gamma + 1\\right) + r \\sigma^{2}}, \\quad v_{e} : \\frac{b m \\rho \\sigma}{\\sigma_{e} \\left(- \\gamma r \\sigma^{2} - m^{2} + r \\rho^{2} \\sigma^{2} \\left(\\gamma + 1\\right) - r \\sigma^{2}\\right)}\\right \\}$$"
      ],
      "text/plain": [
       "⎧                   b⋅m                                         b⋅m⋅ρ⋅σ       \n",
       "⎪v: ────────────────────────────────────, vₑ: ────────────────────────────────\n",
       "⎨        2    2      2  2              2         ⎛       2    2      2  2     \n",
       "⎪   γ⋅r⋅σ  + m  - r⋅ρ ⋅σ ⋅(γ + 1) + r⋅σ       σₑ⋅⎝- γ⋅r⋅σ  - m  + r⋅ρ ⋅σ ⋅(γ +\n",
       "⎩                                                                             \n",
       "\n",
       "           ⎫\n",
       "───────────⎪\n",
       "         2⎞⎬\n",
       " 1) - r⋅σ ⎠⎪\n",
       "           ⎭"
      ]
     },
     "execution_count": 27,
     "metadata": {},
     "output_type": "execute_result"
    }
   ],
   "source": [
    "vdag2s = solve([eq1, eq2], [v, ve])\n",
    "vdag2s"
   ]
  },
  {
   "cell_type": "code",
   "execution_count": 28,
   "metadata": {},
   "outputs": [
    {
     "data": {
      "image/png": "[encoded data removed]",
      "text/latex": [
       "$$\\frac{b^{2} \\left(\\frac{\\gamma r \\rho^{2} \\sigma^{2}}{2} - \\frac{\\gamma r \\sigma^{2}}{2} - \\frac{m^{2}}{2}\\right)}{\\gamma r \\rho^{2} \\sigma^{2} - \\gamma r \\sigma^{2} - m^{2} + r \\rho^{2} \\sigma^{2} - r \\sigma^{2}}$$"
      ],
      "text/plain": [
       "         ⎛     2  2        2    2⎞      \n",
       "       2 ⎜γ⋅r⋅ρ ⋅σ    γ⋅r⋅σ    m ⎟      \n",
       "      b ⋅⎜───────── - ────── - ──⎟      \n",
       "         ⎝    2         2      2 ⎠      \n",
       "────────────────────────────────────────\n",
       "     2  2        2    2      2  2      2\n",
       "γ⋅r⋅ρ ⋅σ  - γ⋅r⋅σ  - m  + r⋅ρ ⋅σ  - r⋅σ "
      ]
     },
     "execution_count": 28,
     "metadata": {},
     "output_type": "execute_result"
    }
   ],
   "source": [
    "Pi2dag = simplify(Pi20.subs([(v, vdag2s[v]), (ve, vdag2s[ve]), (s, sdag2)]))\n",
    "Pi2dag"
   ]
  },
  {
   "cell_type": "markdown",
   "metadata": {},
   "source": [
    "# lemma3の設定"
   ]
  },
  {
   "cell_type": "code",
   "execution_count": 29,
   "metadata": {},
   "outputs": [
    {
     "data": {
      "image/png": "[encoded data removed]",
      "text/latex": [
       "$$\\left [ \\frac{a_{1}^{2}}{2} + \\frac{a_{2}^{2}}{2}, \\quad \\frac{\\gamma \\left(\\left(- a_{1} + s_{1}\\right)^{2} + \\left(- a_{2} + s_{2}\\right)^{2}\\right)}{2}\\right ]$$"
      ],
      "text/plain": [
       "⎡  2     2    ⎛          2             2⎞⎤\n",
       "⎢a₁    a₂   γ⋅⎝(-a₁ + s₁)  + (-a₂ + s₂) ⎠⎥\n",
       "⎢─── + ───, ─────────────────────────────⎥\n",
       "⎣ 2     2                 2              ⎦"
      ]
     },
     "execution_count": 29,
     "metadata": {},
     "output_type": "execute_result"
    }
   ],
   "source": [
    "a1 = Symbol('a_1')\n",
    "a2 = Symbol('a_2')\n",
    "s1 = Symbol('s_1')\n",
    "s2 = Symbol('s_2')\n",
    "k2 = Lambda([a1, a2], Rational(1, 2) * (a1 ** 2 + a2 ** 2))\n",
    "ks2 = Lambda([a1, a2, s1, s2], Rational(1, 2)*gamma*((s1 - a1)**2 + (s2 - a2)**2))\n",
    "\n",
    "[k2(a1, a2), ks2(a1, a2, s1, s2)]"
   ]
  },
  {
   "cell_type": "code",
   "execution_count": 30,
   "metadata": {},
   "outputs": [
    {
     "data": {
      "image/png": "[encoded data removed]",
      "text/latex": [
       "$$\\left [ a_{1} m_{1} + a_{2} m_{2} + \\varepsilon, \\quad a_{1} m_{1} + a_{2} m_{2}, \\quad a_{1} b_{1} + a_{2} b_{2}\\right ]$$"
      ],
      "text/plain": [
       "[a₁⋅m₁ + a₂⋅m₂ + varepsilon, a₁⋅m₁ + a₂⋅m₂, a₁⋅b₁ + a₂⋅b₂]"
      ]
     },
     "execution_count": 30,
     "metadata": {},
     "output_type": "execute_result"
    }
   ],
   "source": [
    "m1 = Symbol('m_1')\n",
    "m2 = Symbol('m_2')\n",
    "y2 = m1*a1 + m2*a2 +eps\n",
    "b1 = Symbol('b_1')\n",
    "b2 = Symbol('b_2')\n",
    "x2 = b1*a1 + b2*a2\n",
    "\n",
    "[y2, E(y2), x2]"
   ]
  },
  {
   "cell_type": "code",
   "execution_count": 31,
   "metadata": {},
   "outputs": [
    {
     "data": {
      "image/png": "[encoded data removed]",
      "text/latex": [
       "$$r$$"
      ],
      "text/plain": [
       "r"
      ]
     },
     "execution_count": 31,
     "metadata": {},
     "output_type": "execute_result"
    }
   ],
   "source": [
    "r"
   ]
  },
  {
   "cell_type": "code",
   "execution_count": 32,
   "metadata": {},
   "outputs": [
    {
     "data": {
      "image/png": "[encoded data removed]",
      "text/latex": [
       "$$\\left [ f + v \\left(a_{1} m_{1} + a_{2} m_{2} + \\varepsilon\\right), \\quad a_{1} m_{1} v + a_{2} m_{2} v + f\\right ]$$"
      ],
      "text/plain": [
       "[f + v⋅(a₁⋅m₁ + a₂⋅m₂ + varepsilon), a₁⋅m₁⋅v + a₂⋅m₂⋅v + f]"
      ]
     },
     "execution_count": 32,
     "metadata": {},
     "output_type": "execute_result"
    }
   ],
   "source": [
    "w3 = f + v*y2\n",
    "[w3, E(w3)]"
   ]
  },
  {
   "cell_type": "code",
   "execution_count": 33,
   "metadata": {},
   "outputs": [
    {
     "data": {
      "image/png": "[encoded data removed]",
      "text/latex": [
       "$$- \\frac{a_{1}^{2}}{2} + a_{1} m_{1} v - \\frac{a_{2}^{2}}{2} + a_{2} m_{2} v + f - \\frac{\\gamma \\left(\\left(- a_{1} + s_{1}\\right)^{2} + \\left(- a_{2} + s_{2}\\right)^{2}\\right)}{2} - \\frac{r \\sigma^{2} v^{2}}{2}$$"
      ],
      "text/plain": [
       "    2               2                   ⎛          2             2⎞      2  2\n",
       "  a₁              a₂                  γ⋅⎝(-a₁ + s₁)  + (-a₂ + s₂) ⎠   r⋅σ ⋅v \n",
       "- ─── + a₁⋅m₁⋅v - ─── + a₂⋅m₂⋅v + f - ───────────────────────────── - ───────\n",
       "   2               2                                2                    2   "
      ]
     },
     "execution_count": 33,
     "metadata": {},
     "output_type": "execute_result"
    }
   ],
   "source": [
    "CE3 = E(w3) - k2(a1, a2) - ks2(a1, a2, s1, s2) - Rational(1,2)*r*(v**2*sigma**2)\n",
    "CE3"
   ]
  },
  {
   "cell_type": "code",
   "execution_count": null,
   "metadata": {},
   "outputs": [],
   "source": []
  },
  {
   "cell_type": "code",
   "execution_count": null,
   "metadata": {},
   "outputs": [],
   "source": []
  },
  {
   "cell_type": "markdown",
   "metadata": {},
   "source": [
    "# 解く"
   ]
  },
  {
   "cell_type": "code",
   "execution_count": 34,
   "metadata": {},
   "outputs": [
    {
     "data": {
      "image/png": "[encoded data removed]",
      "text/latex": [
       "$$\\left [ \\frac{\\gamma s_{1} + m_{1} v}{\\gamma + 1}, \\quad \\frac{\\gamma s_{2} + m_{2} v}{\\gamma + 1}\\right ]$$"
      ],
      "text/plain": [
       "⎡γ⋅s₁ + m₁⋅v  γ⋅s₂ + m₂⋅v⎤\n",
       "⎢───────────, ───────────⎥\n",
       "⎣   γ + 1        γ + 1   ⎦"
      ]
     },
     "execution_count": 34,
     "metadata": {},
     "output_type": "execute_result"
    }
   ],
   "source": [
    "a1dag3 = solve(CE3.diff(a1), a1)[0]\n",
    "a2dag3 = solve(CE3.diff(a2), a2)[0]\n",
    "[a1dag3, a2dag3]"
   ]
  },
  {
   "cell_type": "code",
   "execution_count": 35,
   "metadata": {},
   "outputs": [
    {
     "data": {
      "image/png": "[encoded data removed]",
      "text/latex": [
       "$$f - \\frac{\\gamma \\left(\\left(s_{1} - \\frac{\\gamma s_{1} + m_{1} v}{\\gamma + 1}\\right)^{2} + \\left(s_{2} - \\frac{\\gamma s_{2} + m_{2} v}{\\gamma + 1}\\right)^{2}\\right)}{2} + \\frac{m_{1} v \\left(\\gamma s_{1} + m_{1} v\\right)}{\\gamma + 1} + \\frac{m_{2} v \\left(\\gamma s_{2} + m_{2} v\\right)}{\\gamma + 1} - \\frac{r \\sigma^{2} v^{2}}{2} - \\frac{\\left(\\gamma s_{1} + m_{1} v\\right)^{2}}{2 \\left(\\gamma + 1\\right)^{2}} - \\frac{\\left(\\gamma s_{2} + m_{2} v\\right)^{2}}{2 \\left(\\gamma + 1\\right)^{2}}$$"
      ],
      "text/plain": [
       "      ⎛                  2                     2⎞                             \n",
       "      ⎜⎛     γ⋅s₁ + m₁⋅v⎞    ⎛     γ⋅s₂ + m₂⋅v⎞ ⎟                             \n",
       "    γ⋅⎜⎜s₁ - ───────────⎟  + ⎜s₂ - ───────────⎟ ⎟                             \n",
       "      ⎝⎝        γ + 1   ⎠    ⎝        γ + 1   ⎠ ⎠   m₁⋅v⋅(γ⋅s₁ + m₁⋅v)   m₂⋅v⋅\n",
       "f - ───────────────────────────────────────────── + ────────────────── + ─────\n",
       "                          2                               γ + 1               \n",
       "                                                                              \n",
       "\n",
       "                                                         \n",
       "                                                         \n",
       "                   2  2                2                2\n",
       "(γ⋅s₂ + m₂⋅v)   r⋅σ ⋅v    (γ⋅s₁ + m₁⋅v)    (γ⋅s₂ + m₂⋅v) \n",
       "───────────── - ─────── - ────────────── - ──────────────\n",
       " γ + 1             2                 2                2  \n",
       "                            2⋅(γ + 1)        2⋅(γ + 1)   "
      ]
     },
     "execution_count": 35,
     "metadata": {},
     "output_type": "execute_result"
    }
   ],
   "source": [
    "CE3dag = CE3.subs([(a1, a1dag3), (a2, a2dag3)])\n",
    "CE3dag"
   ]
  },
  {
   "cell_type": "code",
   "execution_count": 36,
   "metadata": {},
   "outputs": [
    {
     "data": {
      "image/png": "[encoded data removed]",
      "text/latex": [
       "$$\\frac{a_{1}^{2}}{2} - a_{1} m_{1} v + \\frac{a_{2}^{2}}{2} - a_{2} m_{2} v + \\frac{\\gamma \\left(a_{1} - s_{1}\\right)^{2}}{2} + \\frac{\\gamma \\left(a_{2} - s_{2}\\right)^{2}}{2} + \\frac{r \\sigma^{2} v^{2}}{2}$$"
      ],
      "text/plain": [
       "  2               2                        2              2      2  2\n",
       "a₁              a₂              γ⋅(a₁ - s₁)    γ⋅(a₂ - s₂)    r⋅σ ⋅v \n",
       "─── - a₁⋅m₁⋅v + ─── - a₂⋅m₂⋅v + ──────────── + ──────────── + ───────\n",
       " 2               2                   2              2            2   "
      ]
     },
     "execution_count": 36,
     "metadata": {},
     "output_type": "execute_result"
    }
   ],
   "source": [
    "f3dag = solve(CE3, f)[0]\n",
    "f3dag"
   ]
  },
  {
   "cell_type": "code",
   "execution_count": 37,
   "metadata": {},
   "outputs": [
    {
     "data": {
      "image/png": "[encoded data removed]",
      "text/latex": [
       "$$a_{1} b_{1} - a_{1} m_{1} v + a_{2} b_{2} - a_{2} m_{2} v - f$$"
      ],
      "text/plain": [
       "a₁⋅b₁ - a₁⋅m₁⋅v + a₂⋅b₂ - a₂⋅m₂⋅v - f"
      ]
     },
     "execution_count": 37,
     "metadata": {},
     "output_type": "execute_result"
    }
   ],
   "source": [
    "Pi3 = E(x2 - w3)\n",
    "Pi3"
   ]
  },
  {
   "cell_type": "code",
   "execution_count": 38,
   "metadata": {},
   "outputs": [
    {
     "data": {
      "image/png": "[encoded data removed]",
      "text/latex": [
       "$$\\frac{b_{1} \\left(\\gamma s_{1} + m_{1} v\\right)}{\\gamma + 1} + \\frac{b_{2} \\left(\\gamma s_{2} + m_{2} v\\right)}{\\gamma + 1} - \\frac{\\gamma \\left(- s_{1} + \\frac{\\gamma s_{1} + m_{1} v}{\\gamma + 1}\\right)^{2}}{2} - \\frac{\\gamma \\left(- s_{2} + \\frac{\\gamma s_{2} + m_{2} v}{\\gamma + 1}\\right)^{2}}{2} - \\frac{r \\sigma^{2} v^{2}}{2} - \\frac{\\left(\\gamma s_{1} + m_{1} v\\right)^{2}}{2 \\left(\\gamma + 1\\right)^{2}} - \\frac{\\left(\\gamma s_{2} + m_{2} v\\right)^{2}}{2 \\left(\\gamma + 1\\right)^{2}}$$"
      ],
      "text/plain": [
       "                                                           2                  \n",
       "                                        ⎛      γ⋅s₁ + m₁⋅v⎞      ⎛      γ⋅s₂ +\n",
       "                                      γ⋅⎜-s₁ + ───────────⎟    γ⋅⎜-s₂ + ──────\n",
       "b₁⋅(γ⋅s₁ + m₁⋅v)   b₂⋅(γ⋅s₂ + m₂⋅v)     ⎝         γ + 1   ⎠      ⎝         γ +\n",
       "──────────────── + ──────────────── - ────────────────────── - ───────────────\n",
       "     γ + 1              γ + 1                   2                        2    \n",
       "                                                                              \n",
       "\n",
       "      2                                            \n",
       " m₂⋅v⎞                                             \n",
       "─────⎟       2  2                2                2\n",
       " 1   ⎠    r⋅σ ⋅v    (γ⋅s₁ + m₁⋅v)    (γ⋅s₂ + m₂⋅v) \n",
       "─────── - ─────── - ────────────── - ──────────────\n",
       "             2                 2                2  \n",
       "                      2⋅(γ + 1)        2⋅(γ + 1)   "
      ]
     },
     "execution_count": 38,
     "metadata": {},
     "output_type": "execute_result"
    }
   ],
   "source": [
    "Pi30 = Pi3.subs([(f, f3dag), (a1, a1dag3), (a2, a2dag3)])\n",
    "Pi30"
   ]
  },
  {
   "cell_type": "code",
   "execution_count": 39,
   "metadata": {},
   "outputs": [
    {
     "data": {
      "image/png": "[encoded data removed]",
      "text/latex": [
       "$$\\left [ b_{1}, \\quad b_{2}\\right ]$$"
      ],
      "text/plain": [
       "[b₁, b₂]"
      ]
     },
     "execution_count": 39,
     "metadata": {},
     "output_type": "execute_result"
    }
   ],
   "source": [
    "s1dag3 = solve(Pi30.diff(s1), s1)[0]\n",
    "s2dag3 = solve(Pi30.diff(s2), s2)[0]\n",
    "[s1dag3, s2dag3]"
   ]
  },
  {
   "cell_type": "code",
   "execution_count": 40,
   "metadata": {},
   "outputs": [
    {
     "data": {
      "image/png": "[encoded data removed]",
      "text/latex": [
       "$$\\frac{b_{1} m_{1} + b_{2} m_{2}}{\\gamma r \\sigma^{2} + m_{1}^{2} + m_{2}^{2} + r \\sigma^{2}}$$"
      ],
      "text/plain": [
       "      b₁⋅m₁ + b₂⋅m₂      \n",
       "─────────────────────────\n",
       "     2     2     2      2\n",
       "γ⋅r⋅σ  + m₁  + m₂  + r⋅σ "
      ]
     },
     "execution_count": 40,
     "metadata": {},
     "output_type": "execute_result"
    }
   ],
   "source": [
    "vdag3 = simplify(solve(Pi30.diff(v), v)[0])\n",
    "vdag3"
   ]
  },
  {
   "cell_type": "code",
   "execution_count": 41,
   "metadata": {},
   "outputs": [
    {
     "data": {
      "image/png": "[encoded data removed]",
      "text/latex": [
       "$$\\frac{b_{1}^{2} \\gamma^{2} r \\sigma^{2} + b_{1}^{2} \\gamma m_{1}^{2} + b_{1}^{2} \\gamma m_{2}^{2} + b_{1}^{2} \\gamma r \\sigma^{2} + b_{1}^{2} m_{1}^{2} + 2 b_{1} b_{2} m_{1} m_{2} + b_{2}^{2} \\gamma^{2} r \\sigma^{2} + b_{2}^{2} \\gamma m_{1}^{2} + b_{2}^{2} \\gamma m_{2}^{2} + b_{2}^{2} \\gamma r \\sigma^{2} + b_{2}^{2} m_{2}^{2}}{2 \\left(\\gamma^{2} r \\sigma^{2} + \\gamma m_{1}^{2} + \\gamma m_{2}^{2} + 2 \\gamma r \\sigma^{2} + m_{1}^{2} + m_{2}^{2} + r \\sigma^{2}\\right)}$$"
      ],
      "text/plain": [
       "  2  2    2     2     2     2     2     2      2     2   2                    \n",
       "b₁ ⋅γ ⋅r⋅σ  + b₁ ⋅γ⋅m₁  + b₁ ⋅γ⋅m₂  + b₁ ⋅γ⋅r⋅σ  + b₁ ⋅m₁  + 2⋅b₁⋅b₂⋅m₁⋅m₂ + b\n",
       "──────────────────────────────────────────────────────────────────────────────\n",
       "                                         ⎛ 2    2       2       2          2  \n",
       "                                       2⋅⎝γ ⋅r⋅σ  + γ⋅m₁  + γ⋅m₂  + 2⋅γ⋅r⋅σ  +\n",
       "\n",
       " 2  2    2     2     2     2     2     2      2     2   2\n",
       "₂ ⋅γ ⋅r⋅σ  + b₂ ⋅γ⋅m₁  + b₂ ⋅γ⋅m₂  + b₂ ⋅γ⋅r⋅σ  + b₂ ⋅m₂ \n",
       "─────────────────────────────────────────────────────────\n",
       "   2     2      2⎞                                       \n",
       " m₁  + m₂  + r⋅σ ⎠                                       "
      ]
     },
     "execution_count": 41,
     "metadata": {},
     "output_type": "execute_result"
    }
   ],
   "source": [
    "Pidag3 = simplify(Pi30.subs([(v, vdag3), (s1, s1dag3), (s2, s2dag3)]))\n",
    "Pidag3"
   ]
  },
  {
   "cell_type": "markdown",
   "metadata": {},
   "source": []
  },
  {
   "cell_type": "markdown",
   "metadata": {},
   "source": [
    "# lemma4の設定"
   ]
  },
  {
   "cell_type": "code",
   "execution_count": 42,
   "metadata": {},
   "outputs": [
    {
     "data": {
      "image/png": "[encoded data removed]",
      "text/latex": [
       "$$\\left [ \\frac{a_{1}^{2}}{2} + \\frac{a_{2}^{2}}{2}, \\quad \\frac{\\gamma \\left(\\left(- a_{1} + s_{1}\\right)^{2} + \\left(- a_{2} + s_{2}\\right)^{2}\\right)}{2}\\right ]$$"
      ],
      "text/plain": [
       "⎡  2     2    ⎛          2             2⎞⎤\n",
       "⎢a₁    a₂   γ⋅⎝(-a₁ + s₁)  + (-a₂ + s₂) ⎠⎥\n",
       "⎢─── + ───, ─────────────────────────────⎥\n",
       "⎣ 2     2                 2              ⎦"
      ]
     },
     "execution_count": 42,
     "metadata": {},
     "output_type": "execute_result"
    }
   ],
   "source": [
    "# k2 = Lambda([a1, a2], Rational(1, 2) * (a1 ** 2 + a2 ** 2))\n",
    "# ks2 = Lambda([a1, a2, s1, s2], Rational(1, 2)*gamma*((s1 - a1)**2 + (s2 - a2)**2))\n",
    "\n",
    "[k2(a1, a2), ks2(a1, a2, s1, s2)]"
   ]
  },
  {
   "cell_type": "code",
   "execution_count": 43,
   "metadata": {},
   "outputs": [
    {
     "data": {
      "image/png": "[encoded data removed]",
      "text/latex": [
       "$$\\left [ a_{1} m_{a} + \\varepsilon_{a}, \\quad a_{1} m_{a}, \\quad a_{1} b_{1} + a_{2} b_{2}, \\quad 0\\right ]$$"
      ],
      "text/plain": [
       "[a₁⋅mₐ + varepsilonₐ, a₁⋅mₐ, a₁⋅b₁ + a₂⋅b₂, 0]"
      ]
     },
     "execution_count": 43,
     "metadata": {},
     "output_type": "execute_result"
    }
   ],
   "source": [
    "# y2 = m1*a1 + m2*a2 +eps\n",
    "\n",
    "ma = Symbol('m_a')\n",
    "sigmaa = Symbol('sigma_a', positive = True)\n",
    "epsa = Normal('varepsilon_a', 0, sigmae)\n",
    "ya = ma*a1 + epsa\n",
    "\n",
    "# x2 = b1*a1 + b2*a2\n",
    "\n",
    "[ya, E(ya), x2, covariance(eps, epsa)]"
   ]
  },
  {
   "cell_type": "code",
   "execution_count": 44,
   "metadata": {},
   "outputs": [
    {
     "data": {
      "image/png": "[encoded data removed]",
      "text/latex": [
       "$$\\left [ f + v \\left(a_{1} m_{1} + a_{2} m_{2} + \\varepsilon\\right) + v_{a} \\left(a_{1} m_{a} + \\varepsilon_{a}\\right), \\quad a_{1} m_{1} v + a_{1} m_{a} v_{a} + a_{2} m_{2} v + f\\right ]$$"
      ],
      "text/plain": [
       "[f + v⋅(a₁⋅m₁ + a₂⋅m₂ + varepsilon) + vₐ⋅(a₁⋅mₐ + varepsilonₐ), a₁⋅m₁⋅v + a₁⋅m\n",
       "ₐ⋅vₐ + a₂⋅m₂⋅v + f]"
      ]
     },
     "execution_count": 44,
     "metadata": {},
     "output_type": "execute_result"
    }
   ],
   "source": [
    "va = Symbol('v_a')\n",
    "w4 = f + v*y2 + va*ya\n",
    "[w4, E(w4)]"
   ]
  },
  {
   "cell_type": "code",
   "execution_count": 45,
   "metadata": {},
   "outputs": [
    {
     "data": {
      "image/png": "[encoded data removed]",
      "text/latex": [
       "$$- \\frac{a_{1}^{2}}{2} + a_{1} m_{1} v + a_{1} m_{a} v_{a} - \\frac{a_{2}^{2}}{2} + a_{2} m_{2} v + f - \\frac{\\gamma \\left(\\left(- a_{1} + s_{1}\\right)^{2} + \\left(- a_{2} + s_{2}\\right)^{2}\\right)}{2} - \\frac{r \\left(\\sigma^{2} v^{2} + \\sigma_{a}^{2} v_{a}^{2}\\right)}{2}$$"
      ],
      "text/plain": [
       "    2                          2                   ⎛          2             2⎞\n",
       "  a₁                         a₂                  γ⋅⎝(-a₁ + s₁)  + (-a₂ + s₂) ⎠\n",
       "- ─── + a₁⋅m₁⋅v + a₁⋅mₐ⋅vₐ - ─── + a₂⋅m₂⋅v + f - ─────────────────────────────\n",
       "   2                          2                                2              \n",
       "\n",
       "     ⎛ 2  2     2   2⎞\n",
       "   r⋅⎝σ ⋅v  + σₐ ⋅vₐ ⎠\n",
       " - ───────────────────\n",
       "            2         "
      ]
     },
     "execution_count": 45,
     "metadata": {},
     "output_type": "execute_result"
    }
   ],
   "source": [
    "CE4 = E(w4) - k2(a1, a2) - ks2(a1, a2, s1, s2) - Rational(1,2)*r*(v**2*sigma**2 + va**2*sigmaa**2)\n",
    "CE4"
   ]
  },
  {
   "cell_type": "code",
   "execution_count": null,
   "metadata": {},
   "outputs": [],
   "source": []
  },
  {
   "cell_type": "markdown",
   "metadata": {},
   "source": [
    "# 解く"
   ]
  },
  {
   "cell_type": "code",
   "execution_count": 46,
   "metadata": {},
   "outputs": [
    {
     "data": {
      "image/png": "[encoded data removed]",
      "text/latex": [
       "$$\\left [ \\frac{\\gamma s_{1} + m_{1} v + m_{a} v_{a}}{\\gamma + 1}, \\quad \\frac{\\gamma s_{2} + m_{2} v}{\\gamma + 1}\\right ]$$"
      ],
      "text/plain": [
       "⎡γ⋅s₁ + m₁⋅v + mₐ⋅vₐ  γ⋅s₂ + m₂⋅v⎤\n",
       "⎢───────────────────, ───────────⎥\n",
       "⎣       γ + 1            γ + 1   ⎦"
      ]
     },
     "execution_count": 46,
     "metadata": {},
     "output_type": "execute_result"
    }
   ],
   "source": [
    "a1dag4 = solve(CE4.diff(a1), a1)[0]\n",
    "a2dag4 = solve(CE4.diff(a2), a2)[0]\n",
    "[a1dag4, a2dag4]"
   ]
  },
  {
   "cell_type": "code",
   "execution_count": 47,
   "metadata": {},
   "outputs": [
    {
     "data": {
      "image/png": "[encoded data removed]",
      "text/latex": [
       "$$f - \\frac{\\gamma \\left(\\left(s_{1} - \\frac{\\gamma s_{1} + m_{1} v + m_{a} v_{a}}{\\gamma + 1}\\right)^{2} + \\left(s_{2} - \\frac{\\gamma s_{2} + m_{2} v}{\\gamma + 1}\\right)^{2}\\right)}{2} + \\frac{m_{1} v \\left(\\gamma s_{1} + m_{1} v + m_{a} v_{a}\\right)}{\\gamma + 1} + \\frac{m_{2} v \\left(\\gamma s_{2} + m_{2} v\\right)}{\\gamma + 1} + \\frac{m_{a} v_{a} \\left(\\gamma s_{1} + m_{1} v + m_{a} v_{a}\\right)}{\\gamma + 1} - \\frac{r \\left(\\sigma^{2} v^{2} + \\sigma_{a}^{2} v_{a}^{2}\\right)}{2} - \\frac{\\left(\\gamma s_{2} + m_{2} v\\right)^{2}}{2 \\left(\\gamma + 1\\right)^{2}} - \\frac{\\left(\\gamma s_{1} + m_{1} v + m_{a} v_{a}\\right)^{2}}{2 \\left(\\gamma + 1\\right)^{2}}$$"
      ],
      "text/plain": [
       "      ⎛                          2                     2⎞                     \n",
       "      ⎜⎛     γ⋅s₁ + m₁⋅v + mₐ⋅vₐ⎞    ⎛     γ⋅s₂ + m₂⋅v⎞ ⎟                     \n",
       "    γ⋅⎜⎜s₁ - ───────────────────⎟  + ⎜s₂ - ───────────⎟ ⎟                     \n",
       "      ⎝⎝            γ + 1       ⎠    ⎝        γ + 1   ⎠ ⎠   m₁⋅v⋅(γ⋅s₁ + m₁⋅v \n",
       "f - ───────────────────────────────────────────────────── + ──────────────────\n",
       "                              2                                       γ + 1   \n",
       "                                                                              \n",
       "\n",
       "                                                                              \n",
       "                                                                              \n",
       "                                                                ⎛ 2  2     2  \n",
       "+ mₐ⋅vₐ)   m₂⋅v⋅(γ⋅s₂ + m₂⋅v)   mₐ⋅vₐ⋅(γ⋅s₁ + m₁⋅v + mₐ⋅vₐ)   r⋅⎝σ ⋅v  + σₐ ⋅v\n",
       "──────── + ────────────────── + ─────────────────────────── - ────────────────\n",
       "                 γ + 1                     γ + 1                       2      \n",
       "                                                                              \n",
       "\n",
       "                                             \n",
       "                                             \n",
       " 2⎞                2                        2\n",
       "ₐ ⎠   (γ⋅s₂ + m₂⋅v)    (γ⋅s₁ + m₁⋅v + mₐ⋅vₐ) \n",
       "─── - ────────────── - ──────────────────────\n",
       "                 2                    2      \n",
       "        2⋅(γ + 1)            2⋅(γ + 1)       "
      ]
     },
     "execution_count": 47,
     "metadata": {},
     "output_type": "execute_result"
    }
   ],
   "source": [
    "CE4dag = CE4.subs([(a1, a1dag4), (a2, a2dag4)])\n",
    "CE4dag"
   ]
  },
  {
   "cell_type": "code",
   "execution_count": 48,
   "metadata": {},
   "outputs": [
    {
     "data": {
      "image/png": "[encoded data removed]",
      "text/latex": [
       "$$\\frac{a_{1}^{2}}{2} - a_{1} m_{1} v - a_{1} m_{a} v_{a} + \\frac{a_{2}^{2}}{2} - a_{2} m_{2} v + \\frac{\\gamma \\left(a_{1} - s_{1}\\right)^{2}}{2} + \\frac{\\gamma \\left(a_{2} - s_{2}\\right)^{2}}{2} + \\frac{r \\sigma^{2} v^{2}}{2} + \\frac{r \\sigma_{a}^{2} v_{a}^{2}}{2}$$"
      ],
      "text/plain": [
       "  2                          2                        2              2      2 \n",
       "a₁                         a₂              γ⋅(a₁ - s₁)    γ⋅(a₂ - s₂)    r⋅σ ⋅\n",
       "─── - a₁⋅m₁⋅v - a₁⋅mₐ⋅vₐ + ─── - a₂⋅m₂⋅v + ──────────── + ──────────── + ─────\n",
       " 2                          2                   2              2            2 \n",
       "\n",
       " 2       2   2\n",
       "v    r⋅σₐ ⋅vₐ \n",
       "── + ─────────\n",
       "         2    "
      ]
     },
     "execution_count": 48,
     "metadata": {},
     "output_type": "execute_result"
    }
   ],
   "source": [
    "f4dag = solve(CE4, f)[0]\n",
    "f4dag"
   ]
  },
  {
   "cell_type": "code",
   "execution_count": 49,
   "metadata": {},
   "outputs": [
    {
     "data": {
      "image/png": "[encoded data removed]",
      "text/latex": [
       "$$a_{1} b_{1} - a_{1} m_{1} v - a_{1} m_{a} v_{a} + a_{2} b_{2} - a_{2} m_{2} v - f$$"
      ],
      "text/plain": [
       "a₁⋅b₁ - a₁⋅m₁⋅v - a₁⋅mₐ⋅vₐ + a₂⋅b₂ - a₂⋅m₂⋅v - f"
      ]
     },
     "execution_count": 49,
     "metadata": {},
     "output_type": "execute_result"
    }
   ],
   "source": [
    "Pi4 = E(x2 - w4)\n",
    "Pi4"
   ]
  },
  {
   "cell_type": "code",
   "execution_count": 50,
   "metadata": {},
   "outputs": [
    {
     "data": {
      "image/png": "[encoded data removed]",
      "text/latex": [
       "$$\\frac{b_{1} \\left(\\gamma s_{1} + m_{1} v + m_{a} v_{a}\\right)}{\\gamma + 1} + \\frac{b_{2} \\left(\\gamma s_{2} + m_{2} v\\right)}{\\gamma + 1} - \\frac{\\gamma \\left(- s_{1} + \\frac{\\gamma s_{1} + m_{1} v + m_{a} v_{a}}{\\gamma + 1}\\right)^{2}}{2} - \\frac{\\gamma \\left(- s_{2} + \\frac{\\gamma s_{2} + m_{2} v}{\\gamma + 1}\\right)^{2}}{2} - \\frac{r \\sigma^{2} v^{2}}{2} - \\frac{r \\sigma_{a}^{2} v_{a}^{2}}{2} - \\frac{\\left(\\gamma s_{2} + m_{2} v\\right)^{2}}{2 \\left(\\gamma + 1\\right)^{2}} - \\frac{\\left(\\gamma s_{1} + m_{1} v + m_{a} v_{a}\\right)^{2}}{2 \\left(\\gamma + 1\\right)^{2}}$$"
      ],
      "text/plain": [
       "                                                                           2  \n",
       "                                                ⎛      γ⋅s₁ + m₁⋅v + mₐ⋅vₐ⎞   \n",
       "                                              γ⋅⎜-s₁ + ───────────────────⎟   \n",
       "b₁⋅(γ⋅s₁ + m₁⋅v + mₐ⋅vₐ)   b₂⋅(γ⋅s₂ + m₂⋅v)     ⎝             γ + 1       ⎠   \n",
       "──────────────────────── + ──────────────── - ────────────────────────────── -\n",
       "         γ + 1                  γ + 1                       2                 \n",
       "                                                                              \n",
       "\n",
       "                      2                                                       \n",
       "   ⎛      γ⋅s₂ + m₂⋅v⎞                                                        \n",
       " γ⋅⎜-s₂ + ───────────⎟       2  2       2   2                2                \n",
       "   ⎝         γ + 1   ⎠    r⋅σ ⋅v    r⋅σₐ ⋅vₐ    (γ⋅s₂ + m₂⋅v)    (γ⋅s₁ + m₁⋅v \n",
       " ────────────────────── - ─────── - ───────── - ────────────── - ─────────────\n",
       "           2                 2          2                  2                  \n",
       "                                                  2⋅(γ + 1)            2⋅(γ + \n",
       "\n",
       "         \n",
       "         \n",
       "        2\n",
       "+ mₐ⋅vₐ) \n",
       "─────────\n",
       "  2      \n",
       "1)       "
      ]
     },
     "execution_count": 50,
     "metadata": {},
     "output_type": "execute_result"
    }
   ],
   "source": [
    "Pi40 = Pi4.subs([(f, f4dag), (a1, a1dag4), (a2, a2dag4)])\n",
    "Pi40"
   ]
  },
  {
   "cell_type": "code",
   "execution_count": 51,
   "metadata": {},
   "outputs": [
    {
     "data": {
      "image/png": "[encoded data removed]",
      "text/latex": [
       "$$\\left [ b_{1}, \\quad b_{2}\\right ]$$"
      ],
      "text/plain": [
       "[b₁, b₂]"
      ]
     },
     "execution_count": 51,
     "metadata": {},
     "output_type": "execute_result"
    }
   ],
   "source": [
    "s1dag4 = solve(Pi40.diff(s1), s1)[0]\n",
    "s2dag4 = solve(Pi40.diff(s2), s2)[0]\n",
    "[s1dag4, s2dag4]"
   ]
  },
  {
   "cell_type": "code",
   "execution_count": 52,
   "metadata": {},
   "outputs": [
    {
     "data": {
      "image/png": "[encoded data removed]",
      "text/latex": [
       "$$\\left [ \\frac{b_{1} m_{1} + b_{2} m_{2} - m_{1} m_{a} v_{a}}{\\gamma r \\sigma^{2} + m_{1}^{2} + m_{2}^{2} + r \\sigma^{2}}, \\quad \\frac{m_{a} \\left(b_{1} - m_{1} v\\right)}{\\gamma r \\sigma_{a}^{2} + m_{a}^{2} + r \\sigma_{a}^{2}}\\right ]$$"
      ],
      "text/plain": [
       "⎡ b₁⋅m₁ + b₂⋅m₂ - m₁⋅mₐ⋅vₐ      mₐ⋅(b₁ - m₁⋅v)   ⎤\n",
       "⎢─────────────────────────, ─────────────────────⎥\n",
       "⎢     2     2     2      2        2     2       2⎥\n",
       "⎣γ⋅r⋅σ  + m₁  + m₂  + r⋅σ   γ⋅r⋅σₐ  + mₐ  + r⋅σₐ ⎦"
      ]
     },
     "execution_count": 52,
     "metadata": {},
     "output_type": "execute_result"
    }
   ],
   "source": [
    "vdag4 = simplify(solve(Pi40.diff(v), v)[0])\n",
    "vadag4 = simplify(solve(Pi40.diff(va), va)[0])\n",
    "[vdag4, vadag4]"
   ]
  },
  {
   "cell_type": "code",
   "execution_count": 53,
   "metadata": {},
   "outputs": [],
   "source": [
    "eq41 = Eq(vdag4, v)\n",
    "eq42 = Eq(vadag4, va)"
   ]
  },
  {
   "cell_type": "code",
   "execution_count": 54,
   "metadata": {},
   "outputs": [
    {
     "data": {
      "image/png": "[encoded data removed]",
      "text/latex": [
       "$$\\left \\{ v : \\frac{b_{1} m_{1} m_{a}^{2} - \\left(b_{1} m_{1} + b_{2} m_{2}\\right) \\left(\\gamma r \\sigma_{a}^{2} + m_{a}^{2} + r \\sigma_{a}^{2}\\right)}{m_{1}^{2} m_{a}^{2} - \\left(\\gamma r \\sigma_{a}^{2} + m_{a}^{2} + r \\sigma_{a}^{2}\\right) \\left(\\gamma r \\sigma^{2} + m_{1}^{2} + m_{2}^{2} + r \\sigma^{2}\\right)}, \\quad v_{a} : \\frac{m_{a} \\left(- b_{1} \\left(\\gamma r \\sigma^{2} + m_{1}^{2} + m_{2}^{2} + r \\sigma^{2}\\right) + m_{1} \\left(b_{1} m_{1} + b_{2} m_{2}\\right)\\right)}{m_{1}^{2} m_{a}^{2} - \\left(\\gamma r \\sigma_{a}^{2} + m_{a}^{2} + r \\sigma_{a}^{2}\\right) \\left(\\gamma r \\sigma^{2} + m_{1}^{2} + m_{2}^{2} + r \\sigma^{2}\\right)}\\right \\}$$"
      ],
      "text/plain": [
       "⎧                2                   ⎛      2     2       2⎞                ⎛ \n",
       "⎪        b₁⋅m₁⋅mₐ  - (b₁⋅m₁ + b₂⋅m₂)⋅⎝γ⋅r⋅σₐ  + mₐ  + r⋅σₐ ⎠             mₐ⋅⎝-\n",
       "⎨v: ─────────────────────────────────────────────────────────────, vₐ: ───────\n",
       "⎪     2   2   ⎛      2     2       2⎞ ⎛     2     2     2      2⎞        2   2\n",
       "⎩   m₁ ⋅mₐ  - ⎝γ⋅r⋅σₐ  + mₐ  + r⋅σₐ ⎠⋅⎝γ⋅r⋅σ  + m₁  + m₂  + r⋅σ ⎠      m₁ ⋅mₐ \n",
       "\n",
       "    ⎛     2     2     2      2⎞                     ⎞ ⎫\n",
       " b₁⋅⎝γ⋅r⋅σ  + m₁  + m₂  + r⋅σ ⎠ + m₁⋅(b₁⋅m₁ + b₂⋅m₂)⎠ ⎪\n",
       "──────────────────────────────────────────────────────⎬\n",
       "   ⎛      2     2       2⎞ ⎛     2     2     2      2⎞⎪\n",
       " - ⎝γ⋅r⋅σₐ  + mₐ  + r⋅σₐ ⎠⋅⎝γ⋅r⋅σ  + m₁  + m₂  + r⋅σ ⎠⎭"
      ]
     },
     "execution_count": 54,
     "metadata": {},
     "output_type": "execute_result"
    }
   ],
   "source": [
    "vdag4s = solve([eq41, eq42], [v, va])\n",
    "vdag4s"
   ]
  },
  {
   "cell_type": "code",
   "execution_count": 55,
   "metadata": {},
   "outputs": [
    {
     "data": {
      "image/png": "[encoded data removed]",
      "text/latex": [
       "$$\\left [ \\frac{b_{1} m_{1} m_{a}^{2} - \\left(b_{1} m_{1} + b_{2} m_{2}\\right) \\left(\\gamma r \\sigma_{a}^{2} + m_{a}^{2} + r \\sigma_{a}^{2}\\right)}{m_{1}^{2} m_{a}^{2} - \\left(\\gamma r \\sigma_{a}^{2} + m_{a}^{2} + r \\sigma_{a}^{2}\\right) \\left(\\gamma r \\sigma^{2} + m_{1}^{2} + m_{2}^{2} + r \\sigma^{2}\\right)}, \\quad \\frac{m_{a} \\left(- b_{1} \\left(\\gamma r \\sigma^{2} + m_{1}^{2} + m_{2}^{2} + r \\sigma^{2}\\right) + m_{1} \\left(b_{1} m_{1} + b_{2} m_{2}\\right)\\right)}{m_{1}^{2} m_{a}^{2} - \\left(\\gamma r \\sigma_{a}^{2} + m_{a}^{2} + r \\sigma_{a}^{2}\\right) \\left(\\gamma r \\sigma^{2} + m_{1}^{2} + m_{2}^{2} + r \\sigma^{2}\\right)}\\right ]$$"
      ],
      "text/plain": [
       "⎡             2                   ⎛      2     2       2⎞            ⎛     ⎛  \n",
       "⎢     b₁⋅m₁⋅mₐ  - (b₁⋅m₁ + b₂⋅m₂)⋅⎝γ⋅r⋅σₐ  + mₐ  + r⋅σₐ ⎠         mₐ⋅⎝- b₁⋅⎝γ⋅\n",
       "⎢─────────────────────────────────────────────────────────────, ──────────────\n",
       "⎢  2   2   ⎛      2     2       2⎞ ⎛     2     2     2      2⎞    2   2   ⎛   \n",
       "⎣m₁ ⋅mₐ  - ⎝γ⋅r⋅σₐ  + mₐ  + r⋅σₐ ⎠⋅⎝γ⋅r⋅σ  + m₁  + m₂  + r⋅σ ⎠  m₁ ⋅mₐ  - ⎝γ⋅r\n",
       "\n",
       "   2     2     2      2⎞                     ⎞ ⎤\n",
       "r⋅σ  + m₁  + m₂  + r⋅σ ⎠ + m₁⋅(b₁⋅m₁ + b₂⋅m₂)⎠ ⎥\n",
       "───────────────────────────────────────────────⎥\n",
       "   2     2       2⎞ ⎛     2     2     2      2⎞⎥\n",
       "⋅σₐ  + mₐ  + r⋅σₐ ⎠⋅⎝γ⋅r⋅σ  + m₁  + m₂  + r⋅σ ⎠⎦"
      ]
     },
     "execution_count": 55,
     "metadata": {},
     "output_type": "execute_result"
    }
   ],
   "source": [
    "[vdag4s[v], vdag4s[va]]"
   ]
  },
  {
   "cell_type": "code",
   "execution_count": 56,
   "metadata": {},
   "outputs": [
    {
     "data": {
      "image/png": "[encoded data removed]",
      "text/latex": [
       "$$\\frac{b_{1}^{2} \\gamma^{2} r^{2} \\sigma^{2} \\sigma_{a}^{2} + b_{1}^{2} \\gamma m_{1}^{2} r \\sigma_{a}^{2} + b_{1}^{2} \\gamma m_{2}^{2} r \\sigma_{a}^{2} + b_{1}^{2} \\gamma m_{a}^{2} r \\sigma^{2} + b_{1}^{2} \\gamma r^{2} \\sigma^{2} \\sigma_{a}^{2} + b_{1}^{2} m_{1}^{2} r \\sigma_{a}^{2} + b_{1}^{2} m_{2}^{2} m_{a}^{2} + b_{1}^{2} m_{a}^{2} r \\sigma^{2} + 2 b_{1} b_{2} m_{1} m_{2} r \\sigma_{a}^{2} + b_{2}^{2} \\gamma^{2} r^{2} \\sigma^{2} \\sigma_{a}^{2} + b_{2}^{2} \\gamma m_{1}^{2} r \\sigma_{a}^{2} + b_{2}^{2} \\gamma m_{2}^{2} r \\sigma_{a}^{2} + b_{2}^{2} \\gamma m_{a}^{2} r \\sigma^{2} + b_{2}^{2} \\gamma r^{2} \\sigma^{2} \\sigma_{a}^{2} + b_{2}^{2} m_{2}^{2} m_{a}^{2} + b_{2}^{2} m_{2}^{2} r \\sigma_{a}^{2}}{2 \\left(\\gamma^{2} r^{2} \\sigma^{2} \\sigma_{a}^{2} + \\gamma m_{1}^{2} r \\sigma_{a}^{2} + \\gamma m_{2}^{2} r \\sigma_{a}^{2} + \\gamma m_{a}^{2} r \\sigma^{2} + 2 \\gamma r^{2} \\sigma^{2} \\sigma_{a}^{2} + m_{1}^{2} r \\sigma_{a}^{2} + m_{2}^{2} m_{a}^{2} + m_{2}^{2} r \\sigma_{a}^{2} + m_{a}^{2} r \\sigma^{2} + r^{2} \\sigma^{2} \\sigma_{a}^{2}\\right)}$$"
      ],
      "text/plain": [
       "  2  2  2  2   2     2     2     2     2     2     2     2     2    2     2   \n",
       "b₁ ⋅γ ⋅r ⋅σ ⋅σₐ  + b₁ ⋅γ⋅m₁ ⋅r⋅σₐ  + b₁ ⋅γ⋅m₂ ⋅r⋅σₐ  + b₁ ⋅γ⋅mₐ ⋅r⋅σ  + b₁ ⋅γ⋅\n",
       "──────────────────────────────────────────────────────────────────────────────\n",
       "                                                                          ⎛ 2 \n",
       "                                                                        2⋅⎝γ ⋅\n",
       "\n",
       " 2  2   2     2   2     2     2   2   2     2   2    2                     2  \n",
       "r ⋅σ ⋅σₐ  + b₁ ⋅m₁ ⋅r⋅σₐ  + b₁ ⋅m₂ ⋅mₐ  + b₁ ⋅mₐ ⋅r⋅σ  + 2⋅b₁⋅b₂⋅m₁⋅m₂⋅r⋅σₐ  +\n",
       "──────────────────────────────────────────────────────────────────────────────\n",
       " 2  2   2       2     2       2     2       2    2        2  2   2     2     2\n",
       "r ⋅σ ⋅σₐ  + γ⋅m₁ ⋅r⋅σₐ  + γ⋅m₂ ⋅r⋅σₐ  + γ⋅mₐ ⋅r⋅σ  + 2⋅γ⋅r ⋅σ ⋅σₐ  + m₁ ⋅r⋅σₐ \n",
       "\n",
       "   2  2  2  2   2     2     2     2     2     2     2     2     2    2     2  \n",
       " b₂ ⋅γ ⋅r ⋅σ ⋅σₐ  + b₂ ⋅γ⋅m₁ ⋅r⋅σₐ  + b₂ ⋅γ⋅m₂ ⋅r⋅σₐ  + b₂ ⋅γ⋅mₐ ⋅r⋅σ  + b₂ ⋅γ\n",
       "──────────────────────────────────────────────────────────────────────────────\n",
       "     2   2     2     2     2    2    2  2   2⎞                                \n",
       " + m₂ ⋅mₐ  + m₂ ⋅r⋅σₐ  + mₐ ⋅r⋅σ  + r ⋅σ ⋅σₐ ⎠                                \n",
       "\n",
       "  2  2   2     2   2   2     2   2     2\n",
       "⋅r ⋅σ ⋅σₐ  + b₂ ⋅m₂ ⋅mₐ  + b₂ ⋅m₂ ⋅r⋅σₐ \n",
       "────────────────────────────────────────\n",
       "                                        \n",
       "                                        "
      ]
     },
     "execution_count": 56,
     "metadata": {},
     "output_type": "execute_result"
    }
   ],
   "source": [
    "Pidag4 = simplify(Pi40.subs([(v, vdag4s[v]),(va, vdag4s[va]), (s1, s1dag4), (s2, s2dag4)]))\n",
    "Pidag4"
   ]
  },
  {
   "cell_type": "code",
   "execution_count": null,
   "metadata": {},
   "outputs": [],
   "source": []
  },
  {
   "cell_type": "code",
   "execution_count": 57,
   "metadata": {},
   "outputs": [
    {
     "data": {
      "image/png": "[encoded data removed]",
      "text/latex": [
       "$$\\left [ - m_{1}^{2} m_{a}^{2} + \\left(m_{a}^{2} + r \\sigma_{a}^{2} \\left(\\gamma + 1\\right)\\right) \\left(m_{1}^{2} + m_{2}^{2} + r \\sigma^{2} \\left(\\gamma + 1\\right)\\right), \\quad \\frac{1}{- m_{1}^{2} m_{a}^{2} + \\left(m_{a}^{2} + r \\sigma_{a}^{2} \\left(\\gamma + 1\\right)\\right) \\left(m_{1}^{2} + m_{2}^{2} + r \\sigma^{2} \\left(\\gamma + 1\\right)\\right)}\\right ]$$"
      ],
      "text/plain": [
       "⎡    2   2   ⎛  2       2        ⎞ ⎛  2     2      2        ⎞                 \n",
       "⎢- m₁ ⋅mₐ  + ⎝mₐ  + r⋅σₐ ⋅(γ + 1)⎠⋅⎝m₁  + m₂  + r⋅σ ⋅(γ + 1)⎠, ───────────────\n",
       "⎢                                                                  2   2   ⎛  \n",
       "⎣                                                              - m₁ ⋅mₐ  + ⎝mₐ\n",
       "\n",
       "              1                              ⎤\n",
       "─────────────────────────────────────────────⎥\n",
       "2       2        ⎞ ⎛  2     2      2        ⎞⎥\n",
       "  + r⋅σₐ ⋅(γ + 1)⎠⋅⎝m₁  + m₂  + r⋅σ ⋅(γ + 1)⎠⎦"
      ]
     },
     "execution_count": 57,
     "metadata": {},
     "output_type": "execute_result"
    }
   ],
   "source": [
    "D = (m1**2 + m2**2 + r*(1 + gamma)*sigma**2)*(ma**2 + r*(1 + gamma)*sigmaa**2) - m1**2*ma**2\n",
    "D1 = D**-1\n",
    "[D, D1]"
   ]
  },
  {
   "cell_type": "code",
   "execution_count": 58,
   "metadata": {},
   "outputs": [
    {
     "name": "stdout",
     "output_type": "stream",
     "text": [
      "アハン？\n"
     ]
    }
   ],
   "source": [
    "print('アハン？')\n",
    "# D1でくくりたい"
   ]
  },
  {
   "cell_type": "code",
   "execution_count": null,
   "metadata": {},
   "outputs": [],
   "source": []
  },
  {
   "cell_type": "code",
   "execution_count": null,
   "metadata": {},
   "outputs": [],
   "source": []
  }
 ],
 "metadata": {
  "kernelspec": {
   "display_name": "Python 3",
   "language": "python",
   "name": "python3"
  },
  "language_info": {
   "codemirror_mode": {
    "name": "ipython",
    "version": 3
   },
   "file_extension": ".py",
   "mimetype": "text/x-python",
   "name": "python",
   "nbconvert_exporter": "python",
   "pygments_lexer": "ipython3",
   "version": "3.7.3"
  }
 },
 "nbformat": 4,
 "nbformat_minor": 4
}
